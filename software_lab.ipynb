{
  "nbformat": 4,
  "nbformat_minor": 0,
  "metadata": {
    "colab": {
      "provenance": [],
      "authorship_tag": "ABX9TyNhpe2rKfUU9/H697iOsjJ9",
      "include_colab_link": true
    },
    "kernelspec": {
      "name": "python3",
      "display_name": "Python 3"
    },
    "language_info": {
      "name": "python"
    }
  },
  "cells": [
    {
      "cell_type": "markdown",
      "metadata": {
        "id": "view-in-github",
        "colab_type": "text"
      },
      "source": [
        "<a href=\"https://colab.research.google.com/github/DjayNii/sdLab-hu22csen0100238-/blob/main/software_lab.ipynb\" target=\"_parent\"><img src=\"https://colab.research.google.com/assets/colab-badge.svg\" alt=\"Open In Colab\"/></a>"
      ]
    },
    {
      "cell_type": "code",
      "execution_count": 1,
      "metadata": {
        "colab": {
          "base_uri": "https://localhost:8080/"
        },
        "id": "k6-vAyjgp6N2",
        "outputId": "0c265081-ab04-4708-eb25-714934baba22"
      },
      "outputs": [
        {
          "output_type": "stream",
          "name": "stdout",
          "text": [
            "Hard-coded Sum: 100\n"
          ]
        }
      ],
      "source": [
        "# Hard-coded example\n",
        "numbers = [10, 20, 30, 40]\n",
        "total = sum(numbers)\n",
        "print(\"Hard-coded Sum:\", total)\n"
      ]
    },
    {
      "cell_type": "code",
      "source": [
        "# input variable\n",
        "try:\n",
        "  num1 = int(input(\"Enter length: \"))\n",
        "  num2 = int(input(\"Enter breadth: \"))\n",
        "  #area of rectangle\n",
        "  area = num1 * num2\n",
        "  print(\"Area of rectangle\", area)\n",
        "except ValueError:\n",
        "  print(\" Please enter a number.\")"
      ],
      "metadata": {
        "colab": {
          "base_uri": "https://localhost:8080/"
        },
        "id": "3Ee_1v8Ztydd",
        "outputId": "91d7041e-2db3-406f-92bd-16552e0c5309"
      },
      "execution_count": 7,
      "outputs": [
        {
          "output_type": "stream",
          "name": "stdout",
          "text": [
            "Enter length: 10\n",
            "Enter breadth: 25\n",
            "Area of rectangle 250\n"
          ]
        }
      ]
    },
    {
      "cell_type": "code",
      "source": [
        "# reading single input from a file and finding area from it.\n",
        "try:\n",
        "  with open(\"sw lab.txt\", \"r\") as file:\n",
        "      num1 = int(file.read()) #num = 10 as mentioned in the file\n",
        "\n",
        "  area = num1 * num1 * 3.14\n",
        "  print(\"Area of circle:\", area)\n",
        "except ValueError:\n",
        "  print(\"Please enter a number.\")\n",
        "except FileNotFoundError:\n",
        "  print(\"File not found. please re-upload the file \")\n"
      ],
      "metadata": {
        "colab": {
          "base_uri": "https://localhost:8080/"
        },
        "id": "H2e-zhk7ujkq",
        "outputId": "d3d92457-7b78-4ad4-bb46-6142b66efbc8"
      },
      "execution_count": 9,
      "outputs": [
        {
          "output_type": "stream",
          "name": "stdout",
          "text": [
            "Area of circle: 314.0\n"
          ]
        }
      ]
    },
    {
      "cell_type": "code",
      "source": [
        "# reading multiple input from a file and finding area of triangle from it.\n",
        "try :\n",
        "  with open (\"swlab2.txt\",\"r\") as file:\n",
        "      num1 = int(file.readline()) # placed each number in new line so it can read each variable through .readline method\n",
        "      num2 = int(file.readline())\n",
        "\n",
        "  area = 0.5 * num1 * num2\n",
        "  print(\"Area of triangle:\", area)\n",
        "except ValueError:\n",
        "  print(\"Please enter a number.\")\n",
        "except FileNotFoundError:\n",
        "  print(\"File not found. please re-upload the file \")"
      ],
      "metadata": {
        "colab": {
          "base_uri": "https://localhost:8080/"
        },
        "id": "LinM2RNQwi8D",
        "outputId": "055e7089-e23f-4868-bcd8-5764d16aaa12"
      },
      "execution_count": 11,
      "outputs": [
        {
          "output_type": "stream",
          "name": "stdout",
          "text": [
            "Area of triangle: 150.0\n"
          ]
        }
      ]
    }
  ]
}